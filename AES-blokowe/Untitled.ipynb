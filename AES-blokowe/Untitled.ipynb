{
 "cells": [
  {
   "cell_type": "code",
   "execution_count": 134,
   "id": "516452bc",
   "metadata": {},
   "outputs": [],
   "source": [
    "from Crypto.Cipher import AES\n",
    "import time\n",
    "from os import listdir, urandom\n",
    "from os.path import dirname, join, abspath\n",
    "import pprint\n",
    "import matplotlib.pyplot as plt\n",
    "import numpy as np\n",
    "import base64"
   ]
  },
  {
   "cell_type": "code",
   "execution_count": 135,
   "id": "ebc0c10e",
   "metadata": {},
   "outputs": [],
   "source": [
    "curr_path = abspath('')\n",
    "files = [join(curr_path, 'text-samples', f) for f in listdir(join(curr_path, 'text-samples'))]"
   ]
  },
  {
   "cell_type": "code",
   "execution_count": 136,
   "id": "2595dc76",
   "metadata": {},
   "outputs": [],
   "source": [
    "key = urandom(16)"
   ]
  },
  {
   "cell_type": "code",
   "execution_count": 137,
   "id": "1466fd54",
   "metadata": {},
   "outputs": [],
   "source": [
    "# =====\n",
    "# ECB    \n",
    "# =====\n",
    "\n",
    "def ecb_encrypt(key, text):\n",
    "    cipher = AES.new(key, AES.MODE_ECB)\n",
    "    ciphertext = cipher.encrypt(text.encode('utf-8'))\n",
    "    return ciphertext\n",
    "\n",
    "def ecb_decrypt(key, ciphertext):\n",
    "    cipher = AES.new(key, AES.MODE_ECB)\n",
    "    text = cipher.decrypt(ciphertext).decode('utf-8')\n",
    "    return text\n",
    "\n",
    "# =====\n",
    "# CBC   \n",
    "# =====\n",
    "\n",
    "def cbc_encrypt(key, text):\n",
    "    cipher = AES.new(key, AES.MODE_CBC)\n",
    "    text_bytes = text.encode('utf-8')        \n",
    "    ct = cipher.encrypt(text_bytes)\n",
    "    iv = cipher.iv\n",
    "    return iv, ct\n",
    "\n",
    "def cbc_decrypt(iv, key, ct):\n",
    "    cipher = AES.new(key, AES.MODE_CBC, iv=iv)\n",
    "    text = cipher.decrypt(ct).decode('utf-8')\n",
    "    return text   \n",
    "\n",
    "# =====\n",
    "# CTR  \n",
    "# =====\n",
    "\n",
    "def ctr_encrypt(key, text):\n",
    "    text_bytes = text.encode('utf-8')\n",
    "    cipher = AES.new(key, AES.MODE_CTR)\n",
    "    ct = cipher.encrypt(text_bytes)\n",
    "    nonce = cipher.nonce        \n",
    "    return nonce, ct\n",
    "\n",
    "def ctr_decrypt(nonce, key, ct):\n",
    "    cipher = AES.new(key, AES.MODE_CTR, nonce=nonce)\n",
    "    text = cipher.decrypt(ct).decode('utf-8')\n",
    "    return text\n",
    "\n",
    "# ====\n",
    "# OFB\n",
    "# ====\n",
    "\n",
    "def ofb_encrypt(key, text):\n",
    "    text_bytes = text.encode('utf-8')\n",
    "    cipher = AES.new(key, AES.MODE_OFB)\n",
    "    ct = cipher.encrypt(text_bytes)\n",
    "    iv = cipher.iv\n",
    "    return iv, ct\n",
    "\n",
    "def ofb_decrypt(iv, key, ct):\n",
    "    cipher = AES.new(key, AES.MODE_OFB, iv=iv)\n",
    "    text = cipher.decrypt(ct).decode('utf-8')\n",
    "    return text\n",
    "\n",
    "# ====\n",
    "# CFB\n",
    "# ====\n",
    "\n",
    "def cfb_encrypt(key, text):\n",
    "    text_bytes = text.encode('utf-8')\n",
    "    cipher = AES.new(key, AES.MODE_CFB)\n",
    "    ct = cipher.encrypt(text_bytes)\n",
    "    iv = cipher.iv\n",
    "    return iv, ct\n",
    "\n",
    "def cfb_decrypt(iv, key, ct):\n",
    "    cipher = AES.new(key, AES.MODE_CFB, iv=iv)\n",
    "    text = cipher.decrypt(ct).decode('utf-8')\n",
    "    return text"
   ]
  },
  {
   "cell_type": "code",
   "execution_count": 138,
   "id": "972fe3c0",
   "metadata": {},
   "outputs": [],
   "source": [
    "texts = []\n",
    "for f in files:\n",
    "    file = open(f, \"r\")\n",
    "    size = float(file.readline().strip())\n",
    "\n",
    "    res_dict = {}\n",
    "\n",
    "    # read text\n",
    "    text = \"\"\n",
    "    for l in file:\n",
    "        text += l\n",
    "    \n",
    "    file.close()\n",
    "    texts.append((text, size))\n",
    "    \n"
   ]
  },
  {
   "cell_type": "code",
   "execution_count": 139,
   "id": "71de407e",
   "metadata": {},
   "outputs": [],
   "source": [
    "results = {}\n",
    "for t in texts:\n",
    "    \n",
    "    size = t[1]\n",
    "    text = t[0]\n",
    "    res_dict = {}  \n",
    "    \n",
    "\n",
    "    # tryb ECB\n",
    "    start = time.perf_counter_ns()\n",
    "    ciphertext = ecb_encrypt(key, text)\n",
    "    end = time.perf_counter_ns()\n",
    "    res_dict['ECB_en_time'] = end - start\n",
    "    \n",
    "    start = time.perf_counter_ns()\n",
    "    decrypted_message = ecb_decrypt(key, ciphertext)\n",
    "    end = time.perf_counter_ns()\n",
    "    res_dict['ECB_de_time'] = end - start\n",
    "\n",
    "    \n",
    "    # tryb CBC    \n",
    "    start = time.perf_counter_ns()\n",
    "    iv, ciphertext = cbc_encrypt(key, text)\n",
    "    end = time.perf_counter_ns()\n",
    "    res_dict['CBC_en_time'] = end - start\n",
    "    \n",
    "    start = time.perf_counter_ns()\n",
    "    decrypted_message = cbc_decrypt(iv, key, ciphertext)\n",
    "    end = time.perf_counter_ns()\n",
    "    res_dict['CBC_de_time'] = end - start\n",
    "\n",
    "    \n",
    "    # tryb CTR\n",
    "    start = time.perf_counter_ns()\n",
    "    nonce, ciphertext = ctr_encrypt(key, text)\n",
    "    end = time.perf_counter_ns()\n",
    "    res_dict['CTR_en_time'] = end - start\n",
    "    \n",
    "    start = time.perf_counter_ns()\n",
    "    decrypted_message = ctr_decrypt(nonce, key, ciphertext)\n",
    "    end = time.perf_counter_ns()\n",
    "    res_dict['CTR_de_time'] = end - start\n",
    "\n",
    "    \n",
    "    # tryb OFB    \n",
    "    start = time.perf_counter_ns()\n",
    "    iv, ciphertext = ofb_encrypt(key, text)\n",
    "    end = time.perf_counter_ns()\n",
    "    res_dict['OFB_en_time'] = end - start\n",
    "    \n",
    "    start = time.perf_counter_ns()\n",
    "    decrypted_message = ofb_decrypt(iv, key, ciphertext)\n",
    "    end = time.perf_counter_ns()\n",
    "    res_dict['OFB_de_time'] = end - start\n",
    "\n",
    "\n",
    "    # tryb CFB\n",
    "    start = time.perf_counter_ns()\n",
    "    iv, ciphertext = cfb_encrypt(key, text)\n",
    "    end = time.perf_counter_ns()\n",
    "    res_dict['CFB_en_time'] = end - start\n",
    "    \n",
    "    start = time.perf_counter_ns()\n",
    "    decrypted_message = cfb_decrypt(iv, key, ciphertext)\n",
    "    end = time.perf_counter_ns()\n",
    "    res_dict['CFB_de_time'] = end - start\n",
    "    \n",
    "    results[size] = res_dict\n"
   ]
  },
  {
   "cell_type": "code",
   "execution_count": 140,
   "id": "ae8ed145",
   "metadata": {},
   "outputs": [],
   "source": [
    "labels = [str(l)+'MB' for l in sorted(results)]\n",
    "x = np.arange(len(labels))\n",
    "width = 0.35\n",
    "sizes = [s for s in results]"
   ]
  },
  {
   "cell_type": "markdown",
   "id": "2650c713",
   "metadata": {},
   "source": [
    "# Porównanie szybkości szyfrowania i deszyfrowania przy użyciu poszczególnych trybów pracy szyfrów blokowych w zależności od wielkości pliku\n",
    "\n",
    "## ECB"
   ]
  },
  {
   "cell_type": "code",
   "execution_count": 141,
   "id": "59efa002",
   "metadata": {},
   "outputs": [
    {
     "data": {
      "image/png": "[encoded data removed]",
      "text/plain": [
       "<Figure size 432x288 with 1 Axes>"
      ]
     },
     "metadata": {
      "needs_background": "light"
     },
     "output_type": "display_data"
    }
   ],
   "source": [
    "en_times = []\n",
    "de_times = []\n",
    "for i in sorted(sizes):\n",
    "    en_times = [results[i]['ECB_de_time'] for i in sorted(results)]\n",
    "    de_times = [results[i]['ECB_de_time'] for i in sorted(results)]\n",
    "\n",
    "fig, ax = plt.subplots()\n",
    "rects1 = ax.bar(x - width/2, en_times, width, label='czas szyfrowania')\n",
    "rects2 = ax.bar(x + width/2, de_times, width, label='czas deszyfrowania')\n",
    "ax.legend()\n",
    "ax.set_ylabel('Czas [ns]')\n",
    "ax.set_xticks(x)\n",
    "ax.set_xticklabels(labels)\n",
    "plt.show()"
   ]
  },
  {
   "cell_type": "markdown",
   "id": "1bbd76d9",
   "metadata": {},
   "source": [
    "# CBC\n"
   ]
  },
  {
   "cell_type": "code",
   "execution_count": 142,
   "id": "a5985bf5",
   "metadata": {},
   "outputs": [
    {
     "data": {
      "image/png": "[encoded data removed]",
      "text/plain": [
       "<Figure size 432x288 with 1 Axes>"
      ]
     },
     "metadata": {
      "needs_background": "light"
     },
     "output_type": "display_data"
    }
   ],
   "source": [
    "en_times = [results[i]['CBC_en_time'] for i in sorted(results)]\n",
    "de_times = [results[i]['CBC_de_time'] for i in sorted(results)]\n",
    "\n",
    "fig, ax = plt.subplots()\n",
    "rects1 = ax.bar(x - width/2, en_times, width, label='czas szyfrowania')\n",
    "rects2 = ax.bar(x + width/2, de_times, width, label='czas deszyfrowania')\n",
    "ax.legend()\n",
    "ax.set_ylabel('Czas [ns]')\n",
    "ax.set_xticks(x)\n",
    "ax.set_xticklabels(labels)\n",
    "plt.show()"
   ]
  },
  {
   "cell_type": "markdown",
   "id": "239e7dfd",
   "metadata": {},
   "source": [
    "# CTR"
   ]
  },
  {
   "cell_type": "code",
   "execution_count": 143,
   "id": "8cf42617",
   "metadata": {},
   "outputs": [
    {
     "data": {
      "image/png": "[encoded data removed]",
      "text/plain": [
       "<Figure size 432x288 with 1 Axes>"
      ]
     },
     "metadata": {
      "needs_background": "light"
     },
     "output_type": "display_data"
    }
   ],
   "source": [
    "en_times = [results[i]['CTR_en_time'] for i in sorted(results)]\n",
    "de_times = [results[i]['CTR_de_time'] for i in sorted(results)]\n",
    "\n",
    "fig, ax = plt.subplots()\n",
    "rects1 = ax.bar(x - width/2, en_times, width, label='czas szyfrowania')\n",
    "rects2 = ax.bar(x + width/2, de_times, width, label='czas deszyfrowania')\n",
    "ax.legend()\n",
    "ax.set_ylabel('Czas [ns]')\n",
    "ax.set_xticks(x)\n",
    "ax.set_xticklabels(labels)\n",
    "plt.show()"
   ]
  },
  {
   "cell_type": "markdown",
   "id": "93e0bc6d",
   "metadata": {},
   "source": [
    "# OFB"
   ]
  },
  {
   "cell_type": "code",
   "execution_count": 144,
   "id": "70347fdb",
   "metadata": {},
   "outputs": [
    {
     "data": {
      "image/png": "[encoded data removed]",
      "text/plain": [
       "<Figure size 432x288 with 1 Axes>"
      ]
     },
     "metadata": {
      "needs_background": "light"
     },
     "output_type": "display_data"
    }
   ],
   "source": [
    "en_times = [results[i]['OFB_en_time'] for i in sorted(results)]\n",
    "de_times = [results[i]['OFB_de_time'] for i in sorted(results)]\n",
    "\n",
    "fig, ax = plt.subplots()\n",
    "rects1 = ax.bar(x - width/2, en_times, width, label='czas szyfrowania')\n",
    "rects2 = ax.bar(x + width/2, de_times, width, label='czas deszyfrowania')\n",
    "ax.legend()\n",
    "ax.set_ylabel('Czas [ns]')\n",
    "ax.set_xticks(x)\n",
    "ax.set_xticklabels(labels)\n",
    "plt.show()"
   ]
  },
  {
   "cell_type": "markdown",
   "id": "7b058b33",
   "metadata": {},
   "source": [
    "# CFB"
   ]
  },
  {
   "cell_type": "code",
   "execution_count": 145,
   "id": "5afe1062",
   "metadata": {},
   "outputs": [
    {
     "data": {
      "image/png": "[encoded data removed]",
      "text/plain": [
       "<Figure size 432x288 with 1 Axes>"
      ]
     },
     "metadata": {
      "needs_background": "light"
     },
     "output_type": "display_data"
    }
   ],
   "source": [
    "en_times = [results[i]['CFB_en_time'] for i in sorted(results)]\n",
    "de_times = [results[i]['CFB_de_time'] for i in sorted(results)]\n",
    "\n",
    "fig, ax = plt.subplots()\n",
    "rects1 = ax.bar(x - width/2, en_times, width, label='czas szyfrowania')\n",
    "rects2 = ax.bar(x + width/2, de_times, width, label='czas deszyfrowania')\n",
    "ax.legend()\n",
    "ax.set_ylabel('Czas [ns]')\n",
    "ax.set_xticks(x)\n",
    "ax.set_xticklabels(labels)\n",
    "plt.show()"
   ]
  },
  {
   "cell_type": "markdown",
   "id": "7f9ed41c",
   "metadata": {},
   "source": [
    "# Porównanie trybów pracy dla plików o różnych rozmiarach\n"
   ]
  },
  {
   "cell_type": "code",
   "execution_count": 146,
   "id": "cd416590",
   "metadata": {},
   "outputs": [
    {
     "data": {
      "image/png": "[encoded data removed]",
      "text/plain": [
       "<Figure size 432x288 with 1 Axes>"
      ]
     },
     "metadata": {
      "needs_background": "light"
     },
     "output_type": "display_data"
    },
    {
     "data": {
      "image/png": "[encoded data removed]",
      "text/plain": [
       "<Figure size 432x288 with 1 Axes>"
      ]
     },
     "metadata": {
      "needs_background": "light"
     },
     "output_type": "display_data"
    },
    {
     "data": {
      "image/png": "[encoded data removed]",
      "text/plain": [
       "<Figure size 432x288 with 1 Axes>"
      ]
     },
     "metadata": {
      "needs_background": "light"
     },
     "output_type": "display_data"
    },
    {
     "data": {
      "image/png": "[encoded data removed]",
      "text/plain": [
       "<Figure size 432x288 with 1 Axes>"
      ]
     },
     "metadata": {
      "needs_background": "light"
     },
     "output_type": "display_data"
    }
   ],
   "source": [
    "labels = ['ECB', 'CBC', 'CTR', 'OFB', 'CFB']\n",
    "x = np.arange(len(labels))  # the label locations\n",
    "width = 0.35  # the width of the bars\n",
    "for i in sorted(results):\n",
    "    en_times = [results[i][l+'_en_time'] for l in labels]\n",
    "    de_times = [results[i][l+'_de_time'] for l in labels]\n",
    "\n",
    "    fig, ax = plt.subplots()\n",
    "    rects1 = ax.bar(x - width/2, en_times, width, label='czas szyfrowania')\n",
    "    rects2 = ax.bar(x + width/2, de_times, width, label='czas deszyfrowania')\n",
    "    ax.legend()\n",
    "    ax.set_title('Plik o rozmiarze '+str(i)+'MB')\n",
    "    ax.set_ylabel('Czas [ns]')\n",
    "    ax.set_xticks(x)\n",
    "    ax.set_xticklabels(labels)\n",
    "plt.show()"
   ]
  },
  {
   "cell_type": "markdown",
   "id": "5e2063c8",
   "metadata": {},
   "source": [
    "## Wnioski\n",
    "We wszystkich testowanych trybach, czas szyfrowania i deszyfrowania jest wprost proporcjonalny do rozmiaru pliku wejściowego.\n",
    "Porównując czasy szyfrowania i deszyfrowania w róznych trybach, najszybciej wypadły tryby ECB i CTR o bardzo zbliżonych do siebie czasach.\n",
    "Tryby CBC i OFB również okazały się działać z podobną prędkością - ok. dwa razy większą od wspomnianych poprzednio ECB i CTR.\n",
    "Zdecydowanie najdłuższym czasem pracy wykazało się szyfrowanie z użyciem trybu CFB."
   ]
  },
  {
   "cell_type": "markdown",
   "id": "02ca2219",
   "metadata": {},
   "source": [
    "# Analiza propagacji błędów\n",
    "\n",
    "Propagacja błędów została sprawdzona poprzez podmianę pierwszego znaku tekstu"
   ]
  },
  {
   "cell_type": "code",
   "execution_count": 147,
   "id": "c419e8cd",
   "metadata": {},
   "outputs": [
    {
     "name": "stdout",
     "output_type": "stream",
     "text": [
      "ECB:\n",
      "\n",
      "tekst:\t\t AlaMaKotaIKogutaAlaMaKotaIKogutaAlaMaKotaIKoguta\n",
      "encrypted:\t b's\\xebz,s\\xb3\\xc6,\\x15z\\x0b\\xb8\\x0e\\x97\\x13\\x18s\\xebz,s\\xb3\\xc6,\\x15z\\x0b\\xb8\\x0e\\x97\\x13\\x18s\\xebz,s\\xb3\\xc6,\\x15z\\x0b\\xb8\\x0e\\x97\\x13\\x18'\n",
      "with error:\t b's\\xebz\\x89s\\xb3\\xc6,\\x15z\\x0b\\xb8\\x0e\\x97\\x13\\x18s\\xebz,s\\xb3\\xc6,\\x15z\\x0b\\xb8\\x0e\\x97\\x13\\x18s\\xebz,s\\xb3\\xc6,\\x15z\\x0b\\xb8\\x0e\\x97\\x13\\x18'\n",
      "decrypted:\t b'AlaMaKotaIKogutaAlaMaKotaIKogutaAlaMaKotaIKoguta'\n",
      "with error:\t b'6Y\\x15\\x10]?\\x02\"\\xf1\\x94\\x14\\x99\\xb47\\xa5\\xd9AlaMaKotaIKogutaAlaMaKotaIKoguta'\n",
      "\n",
      "CBC:\n",
      "\n",
      "tekst:\t\t AlaMaKotaIKogutaAlaMaKotaIKogutaAlaMaKotaIKoguta\n",
      "encrypted:\t b'\\x9a\\xe8\\xfc?\\xb5\\xca\\rlr\\xbbKZH\\xed\\x03\\xb7\\xdc\\x06\\xa0\\'\\x81Ff\\x081\\xa8\\x12[d(\\xf2\"\\xe5\\xb3s\\xa5K\\n\\xa5Y\\x88\\xb7{\\xc7(c\\xda\\x1f'\n",
      "with error:\t b'\\x9a\\xe8\\xfc\\x89\\xb5\\xca\\rlr\\xbbKZH\\xed\\x03\\xb7\\xdc\\x06\\xa0\\'\\x81Ff\\x081\\xa8\\x12[d(\\xf2\"\\xe5\\xb3s\\xa5K\\n\\xa5Y\\x88\\xb7{\\xc7(c\\xda\\x1f'\n",
      "decrypted:\t b'AlaMaKotaIKogutaAlaMaKotaIKogutaAlaMaKotaIKoguta'\n",
      "with error:\t b'\\xe9I\\xd3Y_\\xce\\xc6\\x80&\\x88\\x9d\\xad\\xe4\\xcd~\\x1bAla\\xfbaKotaIKogutaAlaMaKotaIKoguta'\n",
      "\n",
      "CTR:\n",
      "\n",
      "tekst:\t\t AlaMaKotaIKogutaAlaMaKotaIKogutaAlaMaKotaIKoguta\n",
      "encrypted:\t b'\\xd1\\xf5\\x1f\\xc8\\x95^c!\\xe8\\xfe\\xc2\\xafd\\x83\\xf5?\\xd55m\\xaf\\xb5\\x02\\x07pE\\xcd*\\xdb\\\\\\xa4\\xe3\\xcbcZ\\xb7\\x00\\x17<X\\xbb\\x88\\xfeL\\xa4\\x8c\\x9b\\x82\\x9e'\n",
      "with error:\t b'\\xd1\\xf5\\x1f\\x89\\x95^c!\\xe8\\xfe\\xc2\\xafd\\x83\\xf5?\\xd55m\\xaf\\xb5\\x02\\x07pE\\xcd*\\xdb\\\\\\xa4\\xe3\\xcbcZ\\xb7\\x00\\x17<X\\xbb\\x88\\xfeL\\xa4\\x8c\\x9b\\x82\\x9e'\n",
      "decrypted:\t b'AlaMaKotaIKogutaAlaMaKotaIKogutaAlaMaKotaIKoguta'\n",
      "with error:\t b'Ala\\x0caKotaIKogutaAlaMaKotaIKogutaAlaMaKotaIKoguta'\n",
      "\n",
      "OFB:\n",
      "\n",
      "tekst:\t\t AlaMaKotaIKogutaAlaMaKotaIKogutaAlaMaKotaIKoguta\n",
      "encrypted:\t b'\\xb2\\x9dq!\\xe5\\xce-k\\x85\\xe3\\xf1\\xfc\\xf0\\x86\\xd0\\xf2M\\x15\\t\\xa3\\x12\\xfa\\xddBOzVk;k\\xd5\\xc5c\\x976\\xb0\\x1c\\x8bB\\x8e\\x8d\\x81}RJ\\xee{W'\n",
      "with error:\t b'\\xb2\\x9dq\\x89\\xe5\\xce-k\\x85\\xe3\\xf1\\xfc\\xf0\\x86\\xd0\\xf2M\\x15\\t\\xa3\\x12\\xfa\\xddBOzVk;k\\xd5\\xc5c\\x976\\xb0\\x1c\\x8bB\\x8e\\x8d\\x81}RJ\\xee{W'\n",
      "decrypted:\t b'AlaMaKotaIKogutaAlaMaKotaIKogutaAlaMaKotaIKoguta'\n",
      "with error:\t b'Ala\\xe5aKotaIKogutaAlaMaKotaIKogutaAlaMaKotaIKoguta'\n",
      "\n",
      "CFB:\n",
      "\n",
      "tekst:\t\t AlaMaKotaIKogutaAlaMaKotaIKogutaAlaMaKotaIKoguta\n",
      "encrypted:\t b'\\x9d1\\xb3E\\x81\\x99\\xf4\\r\\x96Uu\\xb2\\xca\\xf7f\\xfa\\xd6p\\x8e\\xd2\\xb8\\xcb\\x05\\xfd\\x9f\\xd3\\xeah\\xf3\\x02\\xf1N\\xd1\\x14\\x9e6#+\\xe9\\x91Q7\\x87\\xe2&\\r\\xa3\\xc7'\n",
      "with error:\t b'\\x9d1\\xb3\\x89\\x81\\x99\\xf4\\r\\x96Uu\\xb2\\xca\\xf7f\\xfa\\xd6p\\x8e\\xd2\\xb8\\xcb\\x05\\xfd\\x9f\\xd3\\xeah\\xf3\\x02\\xf1N\\xd1\\x14\\x9e6#+\\xe9\\x91Q7\\x87\\xe2&\\r\\xa3\\xc7'\n",
      "decrypted:\t b'AlaMaKotaIKogutaAlaMaKotaIKogutaAlaMaKotaIKoguta'\n",
      "with error:\t b'Ala\\x81\\xb6\\xbe\\xc1\\x05.\\xc3C\\x89-\\xea3\\xefm\\x0c{\\xf8aKotaIKogutaAlaMaKotaIKoguta'\n"
     ]
    }
   ],
   "source": [
    "# tekst o długości 3x 16 znaków = 48 znaków\n",
    "text = 'AlaMaKotaIKogutaAlaMaKotaIKogutaAlaMaKotaIKoguta'\n",
    "\n",
    "def ecb_decrypt2(key, ciphertext):\n",
    "    cipher = AES.new(key, AES.MODE_ECB)\n",
    "    text = cipher.decrypt(ciphertext)\n",
    "    return text\n",
    "\n",
    "def cbc_decrypt2(iv, key, ct):\n",
    "    cipher = AES.new(key, AES.MODE_CBC, iv=iv)\n",
    "    text = cipher.decrypt(ct)\n",
    "    return text   \n",
    "\n",
    "def ctr_decrypt2(nonce, key, ct):\n",
    "    cipher = AES.new(key, AES.MODE_CTR, nonce=nonce)\n",
    "    text = cipher.decrypt(ct)\n",
    "    return text\n",
    "\n",
    "def ofb_decrypt2(iv, key, ct):\n",
    "    cipher = AES.new(key, AES.MODE_OFB, iv=iv)\n",
    "    text = cipher.decrypt(ct)\n",
    "    return text\n",
    "\n",
    "def cfb_decrypt2(iv, key, ct):\n",
    "    cipher = AES.new(key, AES.MODE_CFB, iv=iv)\n",
    "    text = cipher.decrypt(ct)\n",
    "    return text\n",
    "\n",
    "def replace_at(text, index):        \n",
    "    error = text[:index] + b'\\x89' + text[index+1:]        \n",
    "    return error\n",
    "       \n",
    "def count_differences(text, decrypted):\n",
    "    diff = 0\n",
    "    if len(text)==len(decrypted):\n",
    "        for i in range(len(text)):\n",
    "            if text[i] != decrypted[i]:\n",
    "                diff += 1\n",
    "    else: \n",
    "        print('teksty o roznych dlugosciach')\n",
    "    return diff        \n",
    "           \n",
    "    \n",
    "# tryb ECB \n",
    "print('ECB:\\n')\n",
    "encrypted = ecb_encrypt(key, text)\n",
    "to_decrypt = replace_at(encrypted, 3)\n",
    "decrypted_err = ecb_decrypt2(key, to_decrypt)\n",
    "decrypted = ecb_decrypt2(key, encrypted)\n",
    "print('tekst:\\t\\t', text)\n",
    "print('encrypted:\\t', encrypted)\n",
    "print('with error:\\t', to_decrypt)\n",
    "\n",
    "print('decrypted:\\t', decrypted)\n",
    "print('with error:\\t', decrypted_err)   \n",
    "    \n",
    "# tryb CBC \n",
    "print('\\nCBC:\\n')\n",
    "iv, encrypted = cbc_encrypt(key, text)\n",
    "to_decrypt = replace_at(encrypted, 3)\n",
    "decrypted_err = cbc_decrypt2(iv, key, to_decrypt)\n",
    "decrypted = cbc_decrypt2(iv, key, encrypted)\n",
    "print('tekst:\\t\\t', text)\n",
    "print('encrypted:\\t', encrypted)\n",
    "print('with error:\\t', to_decrypt)\n",
    "\n",
    "print('decrypted:\\t', decrypted)\n",
    "print('with error:\\t', decrypted_err) \n",
    "    \n",
    "\n",
    "# tryb CTR\n",
    "print('\\nCTR:\\n')\n",
    "nonce, encrypted = ctr_encrypt(key, text)\n",
    "to_decrypt = replace_at(encrypted, 3)\n",
    "decrypted_err = ctr_decrypt2(nonce, key, to_decrypt)\n",
    "decrypted = ctr_decrypt2(nonce, key, encrypted)\n",
    "print('tekst:\\t\\t', text)\n",
    "print('encrypted:\\t', encrypted)\n",
    "print('with error:\\t', to_decrypt)\n",
    "\n",
    "print('decrypted:\\t', decrypted)\n",
    "print('with error:\\t', decrypted_err) \n",
    "\n",
    "\n",
    "# tryb OFB\n",
    "print('\\nOFB:\\n')\n",
    "iv, encrypted = ofb_encrypt(key, text)\n",
    "to_decrypt = replace_at(encrypted, 3)\n",
    "decrypted_err = ofb_decrypt2(iv, key, to_decrypt)\n",
    "decrypted = ofb_decrypt2(iv, key, encrypted)\n",
    "print('tekst:\\t\\t', text)\n",
    "print('encrypted:\\t', encrypted)\n",
    "print('with error:\\t', to_decrypt)\n",
    "\n",
    "print('decrypted:\\t', decrypted)\n",
    "print('with error:\\t', decrypted_err) \n",
    "\n",
    "# tryb CFB\n",
    "print('\\nCFB:\\n')\n",
    "iv, encrypted = cfb_encrypt(key, text)\n",
    "to_decrypt = replace_at(encrypted, 3)\n",
    "decrypted_err = cfb_decrypt2(iv, key, to_decrypt)\n",
    "decrypted = cfb_decrypt2(iv, key, encrypted)\n",
    "print('tekst:\\t\\t', text)\n",
    "print('encrypted:\\t', encrypted)\n",
    "print('with error:\\t', to_decrypt)\n",
    "\n",
    "print('decrypted:\\t', decrypted)\n",
    "print('with error:\\t', decrypted_err) \n",
    "\n",
    "    \n",
    "    "
   ]
  },
  {
   "cell_type": "markdown",
   "id": "3b12961c",
   "metadata": {},
   "source": [
    "## Wnioski\n",
    "- W trybach ECB i CFB błąd nie propaguje się poza dany blok 16B\n",
    "- W trybie CBC pojawiają się błędy w bloku następującym po bloku w którym wystąpił błąd\n",
    "- W trybach CTR i OFB nie wystąpiła propagacja błędu poza znak, który został zmieniony"
   ]
  }
 ],
 "metadata": {
  "kernelspec": {
   "display_name": "Python 3 (ipykernel)",
   "language": "python",
   "name": "python3"
  },
  "language_info": {
   "codemirror_mode": {
    "name": "ipython",
    "version": 3
   },
   "file_extension": ".py",
   "mimetype": "text/x-python",
   "name": "python",
   "nbconvert_exporter": "python",
   "pygments_lexer": "ipython3",
   "version": "3.9.6"
  }
 },
 "nbformat": 4,
 "nbformat_minor": 5
}
