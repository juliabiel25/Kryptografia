{
 "cells": [
  {
   "cell_type": "code",
   "execution_count": 23,
   "id": "2c70a218",
   "metadata": {},
   "outputs": [
    {
     "name": "stdout",
     "output_type": "stream",
     "text": [
      "\tMD5:\n",
      " c0d03d2d3e717da54ffdfc8a76c0f089\n",
      "\n",
      "\tSHA-1:\n",
      " a0e5cd812455e04d6e33646cd8dc17e05b674231\n",
      "\n",
      "\tSHA-2-224:\n",
      " bacfd6a442d02b096f13baa3e2e11b1ca81e702351f0d3289b18592d\n",
      "\n",
      "\tSHA-2-256:\n",
      " aedaac3e798149ebaec99435ea67f2ff1fc8b5cd2f3b039b885bdf8c04678c03\n",
      "\n",
      "\tSHA-2-384:\n",
      " 2c4cdb621cf134cc6d04c76012b3f8c06247463c95ce9f6158a8b2218f2e9ab323e111551c494e8b92bb95955df3913d\n",
      "\n",
      "\tSHA-2-512:\n",
      " 71062884a3882e5442aa9acaff2b570c3470431f60e868a4178cbd0460f71ac0d5a679f4647003d5b683a7c9091a49b1075c72dc63bbbc9aa461c3af9129ddd9\n",
      "\n",
      "\tSHA-3-224:\n",
      " b6dd6f2e4082800cea403f7e387f80e2be1ee0ad6860ea5f6843dd45\n",
      "\n",
      "\tSHA-3-256:\n",
      " 16c6f78ba37ae968b2602249278aad82aea653662b3e9583d598030f0fef5c4d\n",
      "\n",
      "\tSHA-3-384:\n",
      " 8e24b4f5a8c62208ee9161f4ff8bcfd9d0aced7a0ee8091ff74abf3f2058112c48d10e4fc6b4b037055579789ab18404\n",
      "\n",
      "\tSHA-3-512:\n",
      " 4e8c7f92a8e50c690ebfc01aca3e91d29fae439427aa979271d159f4a0bc4f741b3bab6144ecf36cacf21e23aa1720ce952fba1b8836dd7c819e4c6d73604b4a\n"
     ]
    }
   ],
   "source": [
    "import hashlib\n",
    "\n",
    "text = b\"Kot\"\n",
    "md5_hash = hashlib.md5(text).hexdigest()\n",
    "sha1_hash = hashlib.sha1(text).hexdigest()\n",
    "sha224_hash = hashlib.sha224(text).hexdigest()\n",
    "sha256_hash = hashlib.sha256(text).hexdigest()\n",
    "sha384_hash = hashlib.sha384(text).hexdigest()\n",
    "sha512_hash = hashlib.sha512(text).hexdigest()\n",
    "\n",
    "sha3_224_hash = hashlib.sha3_224(text).hexdigest()\n",
    "sha3_256_hash = hashlib.sha3_256(text).hexdigest()\n",
    "sha3_384_hash = hashlib.sha3_384(text).hexdigest()\n",
    "sha3_512_hash = hashlib.sha3_512(text).hexdigest()\n",
    "\n",
    "\n",
    "\n",
    "print('\\tMD5:\\n', md5_hash)\n",
    "print('\\n\\tSHA-1:\\n', sha1_hash)\n",
    "print('\\n\\tSHA-2-224:\\n', sha224_hash)\n",
    "print('\\n\\tSHA-2-256:\\n', sha256_hash)\n",
    "print('\\n\\tSHA-2-384:\\n', sha384_hash)\n",
    "print('\\n\\tSHA-2-512:\\n', sha512_hash)\n",
    "\n",
    "print('\\n\\tSHA-3-224:\\n', sha3_224_hash)\n",
    "print('\\n\\tSHA-3-256:\\n', sha3_256_hash)\n",
    "print('\\n\\tSHA-3-384:\\n', sha3_384_hash)\n",
    "print('\\n\\tSHA-3-512:\\n', sha3_512_hash)"
   ]
  },
  {
   "cell_type": "code",
   "execution_count": null,
   "id": "ca28d19c",
   "metadata": {},
   "outputs": [],
   "source": []
  }
 ],
 "metadata": {
  "kernelspec": {
   "display_name": "Python 3 (ipykernel)",
   "language": "python",
   "name": "python3"
  },
  "language_info": {
   "codemirror_mode": {
    "name": "ipython",
    "version": 3
   },
   "file_extension": ".py",
   "mimetype": "text/x-python",
   "name": "python",
   "nbconvert_exporter": "python",
   "pygments_lexer": "ipython3",
   "version": "3.10.4"
  }
 },
 "nbformat": 4,
 "nbformat_minor": 5
}
